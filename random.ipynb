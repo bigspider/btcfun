{
 "cells": [
  {
   "cell_type": "code",
   "execution_count": 6,
   "metadata": {},
   "outputs": [],
   "source": [
    "import bip0327\n",
    "\n",
    "from hwilib.psbt import PSBT, PartiallySignedInput, PartiallySignedOutput, CTransaction, CTxIn, CTxOut, KeyOriginInfo\n",
    "\n",
    "import json\n",
    "import base58\n",
    "from bip32 import BIP32\n",
    "from common import hash160\n",
    "import mnemonic\n",
    "import segwit_addr\n",
    "from bip380.descriptors import descriptor_from_str\n",
    "\n",
    "import taproot\n",
    "\n",
    "mnemo = mnemonic.Mnemonic(\"english\")\n",
    "\n",
    "DEFAULT_SPECULOS_MNEMONIC = \"glory promote mansion idle axis finger extra february uncover one trip resource lawn turtle enact monster seven myth punch hobby comfort wild raise skin\"\n",
    "WALLET_POLICY_SLIP21_LABEL = b\"LEDGER-Wallet policy\"\n",
    "\n",
    "speculos_seed = mnemo.to_seed(DEFAULT_SPECULOS_MNEMONIC)\n",
    "bip32 = BIP32.from_seed(speculos_seed, 'test')\n",
    "master_key_fingerprint = hash160(bip32.pubkey)[0:4]\n",
    "FPR = master_key_fingerprint.hex()\n",
    "\n",
    "BIP32_MAINNET_PUBKEY_VERSION = b'\\x04\\x88\\xB2\\x1E'\n",
    "BIP32_TESTNET_PUBKEY_VERSION = b'\\x04\\x35\\x87\\xCF'\n",
    "\n",
    "\n"
   ]
  },
  {
   "cell_type": "code",
   "execution_count": 13,
   "metadata": {},
   "outputs": [
    {
     "name": "stdout",
     "output_type": "stream",
     "text": [
      "0250929b74c1a04954b78b4b6035e97a5e078a5a0f28ec96d547bfee9ace803ac0\n"
     ]
    },
    {
     "data": {
      "text/plain": [
       "b'xpub661MyMwAqRbcEYS8w7XLSVeEsBXy79zSzH1J8vCdxAZningWLdN3zgtU6QgnecKFpJFPpdzxKrwoaZoV44qAJewsc4kX9vGaCaBExuvJH57'"
      ]
     },
     "execution_count": 13,
     "metadata": {},
     "output_type": "execute_result"
    }
   ],
   "source": [
    "NUMS_POINT = taproot.lift_x(0x50929b74c1a04954b78b4b6035e97a5e078a5a0f28ec96d547bfee9ace803ac0)\n",
    "\n",
    "NUMS_pk = bytes([2 + NUMS_POINT[1]%2]) + NUMS_POINT[0].to_bytes(32, byteorder=\"big\")\n",
    "\n",
    "print(NUMS_pk.hex())\n",
    "\n",
    "unspendable_pubkey = base58.b58encode_check(b''.join([\n",
    "    b'\\x04\\x88\\xB2\\x1E',\n",
    "    b'\\x00',\n",
    "    b'\\x00\\x00\\x00\\x00',\n",
    "    b'\\x00\\x00\\x00\\x00',\n",
    "    b'\\x00' * 32,\n",
    "    NUMS_pk\n",
    "]))\n",
    "unspendable_pubkey"
   ]
  },
  {
   "cell_type": "code",
   "execution_count": 11,
   "metadata": {},
   "outputs": [
    {
     "data": {
      "text/plain": [
       "0"
      ]
     },
     "execution_count": 11,
     "metadata": {},
     "output_type": "execute_result"
    }
   ],
   "source": [
    "P = taproot.lift_x(0x50929b74c1a04954b78b4b6035e97a5e078a5a0f28ec96d547bfee9ace803ac0)\n",
    "\n",
    "P[1] % 2\n"
   ]
  }
 ],
 "metadata": {
  "kernelspec": {
   "display_name": "Python 3",
   "language": "python",
   "name": "python3"
  },
  "language_info": {
   "codemirror_mode": {
    "name": "ipython",
    "version": 3
   },
   "file_extension": ".py",
   "mimetype": "text/x-python",
   "name": "python",
   "nbconvert_exporter": "python",
   "pygments_lexer": "ipython3",
   "version": "3.10.12"
  }
 },
 "nbformat": 4,
 "nbformat_minor": 2
}
