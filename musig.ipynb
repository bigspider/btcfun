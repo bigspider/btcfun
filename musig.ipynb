{
 "cells": [
  {
   "cell_type": "code",
   "execution_count": 1,
   "metadata": {},
   "outputs": [],
   "source": [
    "import bip0327\n",
    "\n",
    "from hwilib.psbt import PSBT, PartiallySignedInput, PartiallySignedOutput, CTransaction, CTxIn, CTxOut, KeyOriginInfo\n",
    "\n",
    "import json\n",
    "import base58\n",
    "from bip32 import BIP32\n",
    "from common import hash160\n",
    "import mnemonic\n",
    "import segwit_addr\n",
    "from bip380.descriptors import descriptor_from_str\n",
    "mnemo = mnemonic.Mnemonic(\"english\")\n",
    "\n",
    "DEFAULT_SPECULOS_MNEMONIC = \"glory promote mansion idle axis finger extra february uncover one trip resource lawn turtle enact monster seven myth punch hobby comfort wild raise skin\"\n",
    "WALLET_POLICY_SLIP21_LABEL = b\"LEDGER-Wallet policy\"\n",
    "\n",
    "speculos_seed = mnemo.to_seed(DEFAULT_SPECULOS_MNEMONIC)\n",
    "bip32 = BIP32.from_seed(speculos_seed, 'test')\n",
    "master_key_fingerprint = hash160(bip32.pubkey)[0:4]\n",
    "FPR = master_key_fingerprint.hex()\n",
    "\n",
    "BIP32_MAINNET_PUBKEY_VERSION = b'\\x04\\x88\\xB2\\x1E'\n",
    "BIP32_TESTNET_PUBKEY_VERSION = b'\\x04\\x35\\x87\\xCF'\n",
    "\n",
    "\n"
   ]
  },
  {
   "cell_type": "code",
   "execution_count": null,
   "metadata": {},
   "outputs": [],
   "source": []
  },
  {
   "cell_type": "code",
   "execution_count": 2,
   "metadata": {},
   "outputs": [],
   "source": [
    "with open(\"musig/key_agg_vectors.json\") as f:\n",
    "    keyagg_vectors = json.load(f)"
   ]
  },
  {
   "cell_type": "code",
   "execution_count": 3,
   "metadata": {},
   "outputs": [
    {
     "data": {
      "text/plain": [
       "{'pubkeys': ['02F9308A019258C31049344F85F89D5229B531C845836F99B08601F113BCE036F9',\n",
       "  '03DFF1D77F2A671C5F36183726DB2341BE58FEAE1DA2DECED843240F7B502BA659',\n",
       "  '023590A94E768F8E1815C2F24B4D80A8E3149316C3518CE7B7AD338368D038CA66',\n",
       "  '020000000000000000000000000000000000000000000000000000000000000005',\n",
       "  '02FFFFFFFFFFFFFFFFFFFFFFFFFFFFFFFFFFFFFFFFFFFFFFFFFFFFFFFEFFFFFC30',\n",
       "  '04F9308A019258C31049344F85F89D5229B531C845836F99B08601F113BCE036F9',\n",
       "  '03935F972DA013F80AE011890FA89B67A27B7BE6CCB24D3274D18B2D4067F261A9'],\n",
       " 'tweaks': ['FFFFFFFFFFFFFFFFFFFFFFFFFFFFFFFEBAAEDCE6AF48A03BBFD25E8CD0364141',\n",
       "  '252E4BD67410A76CDF933D30EAA1608214037F1B105A013ECCD3C5C184A6110B'],\n",
       " 'valid_test_cases': [{'key_indices': [0, 1, 2],\n",
       "   'expected': '90539EEDE565F5D054F32CC0C220126889ED1E5D193BAF15AEF344FE59D4610C'},\n",
       "  {'key_indices': [2, 1, 0],\n",
       "   'expected': '6204DE8B083426DC6EAF9502D27024D53FC826BF7D2012148A0575435DF54B2B'},\n",
       "  {'key_indices': [0, 0, 0],\n",
       "   'expected': 'B436E3BAD62B8CD409969A224731C193D051162D8C5AE8B109306127DA3AA935'},\n",
       "  {'key_indices': [0, 0, 1, 1],\n",
       "   'expected': '69BC22BFA5D106306E48A20679DE1D7389386124D07571D0D872686028C26A3E'}],\n",
       " 'error_test_cases': [{'key_indices': [0, 3],\n",
       "   'tweak_indices': [],\n",
       "   'is_xonly': [],\n",
       "   'error': {'type': 'invalid_contribution', 'signer': 1, 'contrib': 'pubkey'},\n",
       "   'comment': 'Invalid public key'},\n",
       "  {'key_indices': [0, 4],\n",
       "   'tweak_indices': [],\n",
       "   'is_xonly': [],\n",
       "   'error': {'type': 'invalid_contribution', 'signer': 1, 'contrib': 'pubkey'},\n",
       "   'comment': 'Public key exceeds field size'},\n",
       "  {'key_indices': [5, 0],\n",
       "   'tweak_indices': [],\n",
       "   'is_xonly': [],\n",
       "   'error': {'type': 'invalid_contribution', 'signer': 0, 'contrib': 'pubkey'},\n",
       "   'comment': 'First byte of public key is not 2 or 3'},\n",
       "  {'key_indices': [0, 1],\n",
       "   'tweak_indices': [0],\n",
       "   'is_xonly': [True],\n",
       "   'error': {'type': 'value', 'message': 'The tweak must be less than n.'},\n",
       "   'comment': 'Tweak is out of range'},\n",
       "  {'key_indices': [6],\n",
       "   'tweak_indices': [1],\n",
       "   'is_xonly': [False],\n",
       "   'error': {'type': 'value',\n",
       "    'message': 'The result of tweaking cannot be infinity.'},\n",
       "   'comment': 'Intermediate tweaking result is point at infinity'}]}"
      ]
     },
     "execution_count": 3,
     "metadata": {},
     "output_type": "execute_result"
    }
   ],
   "source": [
    "keyagg_vectors"
   ]
  },
  {
   "cell_type": "code",
   "execution_count": 4,
   "metadata": {},
   "outputs": [],
   "source": [
    "def xpub_from_hexkey(pubkey_hex: str) -> str:\n",
    "    version_bytes = BIP32_TESTNET_PUBKEY_VERSION\n",
    "    depth = b'\\x00'\n",
    "    fingerprint = b'\\x00\\x00\\x00\\x00'\n",
    "    child_number = b'\\x00\\x00\\x00\\x00'\n",
    "    chain_code = b'\\x00' * 32\n",
    "    xpub = version_bytes + depth + fingerprint + child_number + chain_code + bytes.fromhex(pubkey_hex)\n",
    "    if len(xpub) != 78:\n",
    "        raise ValueError(\"Invalid xpub length\")\n",
    "    return base58.b58encode_check(xpub)\n",
    "\n",
    "xpubs = keyagg_vectors[\"pubkeys\"]"
   ]
  },
  {
   "cell_type": "code",
   "execution_count": 5,
   "metadata": {},
   "outputs": [],
   "source": [
    "key_agg_ctx = bip0327.key_agg(list(map(bytes.fromhex, keyagg_vectors[\"pubkeys\"][0:3])))"
   ]
  },
  {
   "cell_type": "code",
   "execution_count": 6,
   "metadata": {},
   "outputs": [],
   "source": [
    "agg_xonly_pk = bip0327.get_xonly_pk(key_agg_ctx).hex()"
   ]
  },
  {
   "cell_type": "code",
   "execution_count": 7,
   "metadata": {},
   "outputs": [],
   "source": [
    "def musig(keys: list[bytes]) -> str:\n",
    "    version_bytes = BIP32_TESTNET_PUBKEY_VERSION\n",
    "    depth = b'\\x00'\n",
    "    fingerprint = b'\\x00\\x00\\x00\\x00'\n",
    "    child_number = b'\\x00\\x00\\x00\\x00'\n",
    "\n",
    "    key_agg_ctx = bip0327.key_agg(keys)\n",
    "    Q = key_agg_ctx.Q\n",
    "    compressed_pubkey = (b'\\x02' if Q[1] % 2 == 0 else b'\\x03') + bip0327.get_xonly_pk(key_agg_ctx)\n",
    "    chaincode = bytes.fromhex(\"868087ca02a6f974c4598924c36b57762d32cb45717167e300622c7167e38965\")\n",
    "    ext_pubkey = version_bytes + depth + fingerprint + child_number + chaincode + compressed_pubkey\n",
    "    return base58.b58encode_check(ext_pubkey).decode()"
   ]
  },
  {
   "cell_type": "code",
   "execution_count": 8,
   "metadata": {},
   "outputs": [
    {
     "name": "stdout",
     "output_type": "stream",
     "text": [
      "Aggregate xpub: tpubD6NzVbkrYhZ4XgHkCEtfpuZPJDLaLPxu5ZBEtAbub9GcUX1mTS2t3eCnBXprykFyvNTz7k9MaKXtxr5rYsrLkfbUw1A27n7sVbLeDn2sna5\n"
     ]
    }
   ],
   "source": [
    "test_agg_xpub = musig(list(map(bytes.fromhex, keyagg_vectors[\"pubkeys\"][0:3])))\n",
    "print(\"Aggregate xpub:\", test_agg_xpub)"
   ]
  },
  {
   "cell_type": "code",
   "execution_count": 9,
   "metadata": {},
   "outputs": [
    {
     "name": "stdout",
     "output_type": "stream",
     "text": [
      "Aggregate pubkey 0290539eede565f5d054f32cc0c220126889ed1e5d193baf15aef344fe59d4610c\n"
     ]
    }
   ],
   "source": [
    "assert base58.b58decode_check(test_agg_xpub)[-33:].hex() == '0290539eede565f5d054f32cc0c220126889ed1e5d193baf15aef344fe59d4610c'\n",
    "\n",
    "print(\"Aggregate pubkey\", base58.b58decode_check(test_agg_xpub)[-33:].hex())"
   ]
  },
  {
   "cell_type": "code",
   "execution_count": 10,
   "metadata": {},
   "outputs": [
    {
     "name": "stdout",
     "output_type": "stream",
     "text": [
      "[44'/1'/0']tpubDCwYjpDhUdPGP5rS3wgNg13mTrrjBuG8V9VpWbyptX6TRPbNoZVXsoVUSkCjmQ8jJycjuDKBb9eataSymXakTTaGifxR6kmVsfFehH1ZgJT\n",
      "[44'/1'/1']tpubDCwYjpDhUdPGQWG6wG6hkBJuWFZEtrn7j3xwG3i8XcQabcGC53xWZm1hSXrUPFS5UvZ3QhdPSjXWNfWmFGTioARHuG5J7XguEjgg7p8PxAm\n",
      "tr(musig([f5acc2fd/44'/1'/0']tpubDCwYjpDhUdPGP5rS3wgNg13mTrrjBuG8V9VpWbyptX6TRPbNoZVXsoVUSkCjmQ8jJycjuDKBb9eataSymXakTTaGifxR6kmVsfFehH1ZgJT,tpubDCwYjpDhUdPGQWG6wG6hkBJuWFZEtrn7j3xwG3i8XcQabcGC53xWZm1hSXrUPFS5UvZ3QhdPSjXWNfWmFGTioARHuG5J7XguEjgg7p8PxAm)/**)\n"
     ]
    }
   ],
   "source": [
    "path_1 = \"44'/1'/0'\"\n",
    "xpub_1 = bip32.get_xpub_from_path(f\"m/{path_1}\")\n",
    "pk_1 = base58.b58decode_check(xpub_1)[-33:]\n",
    "\n",
    "path_2 = \"44'/1'/1'\"\n",
    "xpub_2 = bip32.get_xpub_from_path(f\"m/{path_2}\")\n",
    "pk_2 = base58.b58decode_check(xpub_2)[-33:]\n",
    "\n",
    "print(f\"[{path_1}]{xpub_1}\")\n",
    "print(f\"[{path_2}]{xpub_2}\")\n",
    "\n",
    "print(f\"tr(musig([{FPR}/{path_1}]{xpub_1},{xpub_2})/**)\")"
   ]
  },
  {
   "cell_type": "code",
   "execution_count": 11,
   "metadata": {},
   "outputs": [
    {
     "data": {
      "text/plain": [
       "'tpubD6NzVbkrYhZ4XgHkCEtfpuZPJDLaLPxu5ZBEtAbub9GcUX1mTS2t3eCnBYbsr3Ya2KGVfoWGNfa65rNS8fx3ssuwAwitJiFN4WPwEUTnqsy'"
      ]
     },
     "execution_count": 11,
     "metadata": {},
     "output_type": "execute_result"
    }
   ],
   "source": [
    "agg_xpub = musig([pk_1, pk_2])\n",
    "\n",
    "agg_xpub"
   ]
  },
  {
   "cell_type": "code",
   "execution_count": 12,
   "metadata": {},
   "outputs": [
    {
     "name": "stdout",
     "output_type": "stream",
     "text": [
      "compressed pubkey after aggregation: 02f689e19cb157cc096342294b02485cc5d9723a849a36c68a7553fe90020bb53c\n"
     ]
    },
    {
     "data": {
      "text/plain": [
       "'043587cf000000000000000000868087ca02a6f974c4598924c36b57762d32cb45717167e300622c7167e3896502f689e19cb157cc096342294b02485cc5d9723a849a36c68a7553fe90020bb53c'"
      ]
     },
     "execution_count": 12,
     "metadata": {},
     "output_type": "execute_result"
    }
   ],
   "source": [
    "print(\"compressed pubkey after aggregation:\", base58.b58decode_check(agg_xpub)[-33:].hex())\n",
    "\n",
    "base58.b58decode_check(agg_xpub).hex()"
   ]
  },
  {
   "cell_type": "code",
   "execution_count": 13,
   "metadata": {},
   "outputs": [
    {
     "name": "stdout",
     "output_type": "stream",
     "text": [
      "Derived aggregate xpub: tpubDArULRJ2eVJPp9R9EcfRLjNhZuNmjjRvtZU2ScNAfaFYgcBMejagdYSgzQVmWWv5dKrHdxBN2wtyMYBzbAHHzdZGq5SPp9YdfNTS2YBRwhX\n",
      "tr(c600d12b3e8cd23fbb2318ceca0f5d7f59c28e7b4227c06a04673f4c3d0ec1c6)\n"
     ]
    }
   ],
   "source": [
    "change = 0\n",
    "address_index = 3\n",
    "\n",
    "der_agg_xpub = bip32.from_xpub(agg_xpub).get_xpub_from_path(f\"m/{change}/{address_index}\")\n",
    "print(\"Derived aggregate xpub:\", der_agg_xpub)\n",
    "\n",
    "der_agg_xpub_rawpk = base58.b58decode_check(der_agg_xpub)[-32:]\n",
    "\n",
    "desc_str = f\"tr({der_agg_xpub_rawpk.hex()})\"\n",
    "print(desc_str)\n",
    "desc = descriptor_from_str(desc_str)"
   ]
  },
  {
   "cell_type": "code",
   "execution_count": 14,
   "metadata": {},
   "outputs": [
    {
     "name": "stdout",
     "output_type": "stream",
     "text": [
      "c600d12b3e8cd23fbb2318ceca0f5d7f59c28e7b4227c06a04673f4c3d0ec1c6\n",
      "final_pubkey: f48bd11a8672e890c5652ba72a9cf42270024ee2d56935a7e6195a61a9079b66\n"
     ]
    },
    {
     "data": {
      "text/plain": [
       "'tb1p7j9azx5xwt5fp3t99wnj4885yfcqynhz645ntflxr9dxr2g8ndnq32xa2m'"
      ]
     },
     "execution_count": 14,
     "metadata": {},
     "output_type": "execute_result"
    }
   ],
   "source": [
    "script = desc.script_pubkey\n",
    "\n",
    "assert script[0] == 0x51 and script[1] == 0x20\n",
    "\n",
    "print(f\"final_pubkey: {script[2:].hex()}\")\n",
    "\n",
    "segwit_addr.encode(\"tb\", 1, script[2:])"
   ]
  },
  {
   "cell_type": "code",
   "execution_count": null,
   "metadata": {},
   "outputs": [],
   "source": []
  },
  {
   "cell_type": "code",
   "execution_count": null,
   "metadata": {},
   "outputs": [],
   "source": []
  },
  {
   "cell_type": "code",
   "execution_count": null,
   "metadata": {},
   "outputs": [],
   "source": []
  },
  {
   "cell_type": "markdown",
   "metadata": {},
   "source": [
    "We want to spend the following UTXO: https://mempool.space/testnet/address/tb1p7j9azx5xwt5fp3t99wnj4885yfcqynhz645ntflxr9dxr2g8ndnq32xa2m"
   ]
  },
  {
   "cell_type": "code",
   "execution_count": 15,
   "metadata": {},
   "outputs": [],
   "source": [
    "\n",
    "\n",
    "psbt = PSBT()\n",
    "\n",
    "psbt.tx_version = 2\n",
    "\n",
    "psbt_input = PartiallySignedInput(version=2)\n",
    "psbt_input.prev_txid = bytes(reversed(bytes.fromhex(\"f6c35db0ed5dc4e41ab42964a99d0ea115a4fda5c1f499f87f25f37bf2c1dc66\")))\n",
    "psbt_input.prev_out = 1\n",
    "psbt_input.sequence = 0xfffffffd\n",
    "psbt_input.witness_utxo = CTxOut(327327, script)\n",
    "psbt_input.tap_bip32_paths[der_agg_xpub_rawpk] = (\n",
    "    set(),\n",
    "    KeyOriginInfo(\n",
    "        fingerprint=b'\\0\\0\\0\\0',  # there's no meaningful fingerprint for the aggregate key\n",
    "        path=[change, address_index]\n",
    "    )\n",
    ")\n",
    "psbt.inputs.append(psbt_input)\n",
    "\n",
    "psbt_output = PartiallySignedOutput(version=2)\n",
    "opreturn_msg = \"This inputs has two pubkeys but you only see one. #mpcgang revenge\".encode()\n",
    "assert 1 <= len(opreturn_msg) <= 75\n",
    "psbt_output.amount = 0\n",
    "psbt_output.script = b'\\x6a' + len(opreturn_msg).to_bytes(1, 'big') + opreturn_msg\n",
    "psbt.outputs.append(psbt_output)\n",
    "\n",
    "psbt.convert_to_v0()"
   ]
  },
  {
   "cell_type": "code",
   "execution_count": 16,
   "metadata": {},
   "outputs": [
    {
     "name": "stdout",
     "output_type": "stream",
     "text": [
      "wallet policy: tr(musig(@0,@1)/**)\n",
      "keys info: [f5acc2fd/44'/1'/0']tpubDCwYjpDhUdPGP5rS3wgNg13mTrrjBuG8V9VpWbyptX6TRPbNoZVXsoVUSkCjmQ8jJycjuDKBb9eataSymXakTTaGifxR6kmVsfFehH1ZgJT,tpubDCwYjpDhUdPGQWG6wG6hkBJuWFZEtrn7j3xwG3i8XcQabcGC53xWZm1hSXrUPFS5UvZ3QhdPSjXWNfWmFGTioARHuG5J7XguEjgg7p8PxAm]\n",
      "psbt: cHNidP8BAIACAAAAAWbcwfJ78yV/+Jn0waX9pBWhDp2pZCm0GuTEXe2wXcP2AQAAAAD9////AQAAAAAAAAAARGpCVGhpcyBpbnB1dHMgaGFzIHR3byBwdWJrZXlzIGJ1dCB5b3Ugb25seSBzZWUgb25lLiAjbXBjZ2FuZyByZXZlbmdlAAAAAAABASuf/gQAAAAAACJRIPSL0RqGcuiQxWUrpyqc9CJwAk7i1Wk1p+YZWmGpB5tmIRbGANErPozSP7sjGM7KD11/WcKOe0InwGoEZz9MPQ7Bxg0AAAAAAAAAAAADAAAAAAA=\n"
     ]
    }
   ],
   "source": [
    "print(f\"wallet policy: tr(musig(@0,@1)/**)\")\n",
    "print(f\"keys info: [{FPR}/{path_1}]{xpub_1},{xpub_2}]\")\n",
    "\n",
    "print(\"psbt:\", psbt.serialize())"
   ]
  },
  {
   "cell_type": "code",
   "execution_count": null,
   "metadata": {},
   "outputs": [],
   "source": []
  }
 ],
 "metadata": {
  "kernelspec": {
   "display_name": "Python 3",
   "language": "python",
   "name": "python3"
  },
  "language_info": {
   "codemirror_mode": {
    "name": "ipython",
    "version": 3
   },
   "file_extension": ".py",
   "mimetype": "text/x-python",
   "name": "python",
   "nbconvert_exporter": "python",
   "pygments_lexer": "ipython3",
   "version": "3.10.12"
  }
 },
 "nbformat": 4,
 "nbformat_minor": 2
}
